{
 "cells": [
  {
   "cell_type": "code",
   "execution_count": 28,
   "metadata": {
    "collapsed": true
   },
   "outputs": [],
   "source": [
    "import yaml\n",
    "from web3 import Web3\n",
    "import requests"
   ]
  },
  {
   "cell_type": "code",
   "execution_count": 29,
   "outputs": [],
   "source": [
    "config = yaml.load(open('../user_config.yaml', 'r'), yaml.Loader)\n",
    "my_key = config['key']\n",
    "signature_api = \"https://www.4byte.directory/api/v1/signatures/\"\n",
    "alchemy_url = f\"https://eth-mainnet.g.alchemy.com/v2/{my_key}\"\n",
    "w3 = Web3(Web3.HTTPProvider(alchemy_url))\n",
    "ethereum = w3.eth\n",
    "latest_block = ethereum.block_number\n",
    "latest_block_details = ethereum.getBlock(latest_block)"
   ],
   "metadata": {
    "collapsed": false
   }
  },
  {
   "cell_type": "code",
   "execution_count": 30,
   "outputs": [
    {
     "data": {
      "text/plain": "'0xc102dfd23156c1d6af9fea6a7693b0bcdd70d61cd6652489199aa8ccd44a200a'"
     },
     "execution_count": 30,
     "metadata": {},
     "output_type": "execute_result"
    }
   ],
   "source": [
    "latest_block_details['hash'].hex()"
   ],
   "metadata": {
    "collapsed": false
   }
  },
  {
   "cell_type": "code",
   "execution_count": 31,
   "outputs": [
    {
     "data": {
      "text/plain": "HexBytes('0xa312c70795ab231297d299208257636e51f7806fcc7e7fa4d07d896d9ad93280')"
     },
     "execution_count": 31,
     "metadata": {},
     "output_type": "execute_result"
    }
   ],
   "source": [
    "latest_block_details['transactions'][0]"
   ],
   "metadata": {
    "collapsed": false
   }
  },
  {
   "cell_type": "code",
   "execution_count": 32,
   "outputs": [],
   "source": [
    "transaction = ethereum.get_transaction(latest_block_details['transactions'][1])"
   ],
   "metadata": {
    "collapsed": false
   }
  },
  {
   "cell_type": "code",
   "execution_count": 33,
   "outputs": [
    {
     "data": {
      "text/plain": "AttributeDict({'blockHash': HexBytes('0xc102dfd23156c1d6af9fea6a7693b0bcdd70d61cd6652489199aa8ccd44a200a'),\n 'blockNumber': 16534293,\n 'hash': HexBytes('0x610be74a34a87e72b34167fe3b066916371feaad326771aa64a8c4bd8bb55e39'),\n 'accessList': [],\n 'chainId': '0x1',\n 'from': '0xa333DFf2A90274F7BAD048C9B80E3d077a7dF781',\n 'gas': 556768,\n 'gasPrice': 24612735523,\n 'input': '0x7ff36ab50000000000000000000000000000000000000000000000004e5efdbea76c2fdd0000000000000000000000000000000000000000000000000000000000000080000000000000000000000000a333dff2a90274f7bad048c9b80e3d077a7df7810000000000000000000000000000000000000000000000000000000063da6ac00000000000000000000000000000000000000000000000000000000000000002000000000000000000000000c02aaa39b223fe8d0a0e5c4f27ead9083c756cc200000000000000000000000029d0160db1b26724eb657e63ffa0e69ff174bf80',\n 'maxFeePerGas': 32919103285,\n 'maxPriorityFeePerGas': 8000000000,\n 'nonce': 46,\n 'r': HexBytes('0xb562b31ed6878239537526e5d54e0a9a452e16bf77785d948447a5a1f71aa150'),\n 's': HexBytes('0x6f9c179e71bf04607c34b15001f86a8e2a063b0411673fa2df4f3c9512f3006c'),\n 'to': '0x7a250d5630B4cF539739dF2C5dAcb4c659F2488D',\n 'transactionIndex': 1,\n 'type': '0x2',\n 'v': 0,\n 'value': 25000000000000000})"
     },
     "execution_count": 33,
     "metadata": {},
     "output_type": "execute_result"
    }
   ],
   "source": [
    "transaction"
   ],
   "metadata": {
    "collapsed": false
   }
  },
  {
   "cell_type": "code",
   "execution_count": 34,
   "outputs": [],
   "source": [
    "signature = transaction['input'][0:10]"
   ],
   "metadata": {
    "collapsed": false
   }
  },
  {
   "cell_type": "code",
   "execution_count": 35,
   "outputs": [],
   "source": [
    "signature = '0xa9059cbb'"
   ],
   "metadata": {
    "collapsed": false
   }
  },
  {
   "cell_type": "code",
   "execution_count": 36,
   "outputs": [],
   "source": [
    "get_specific_signature = requests.get(signature_api, params={'hex_signature': signature})"
   ],
   "metadata": {
    "collapsed": false
   }
  },
  {
   "cell_type": "code",
   "execution_count": 37,
   "outputs": [
    {
     "data": {
      "text/plain": "{'count': 5,\n 'next': None,\n 'previous': None,\n 'results': [{'id': 844280,\n   'created_at': '2022-08-26T12:20:41.369990Z',\n   'text_signature': 'join_tg_invmru_haha_fd06787(address,bool)',\n   'hex_signature': '0xa9059cbb',\n   'bytes_signature': '©\\x05\\x9c»'},\n  {'id': 313067,\n   'created_at': '2021-10-20T05:29:13.555535Z',\n   'text_signature': 'func_2093253501(bytes)',\n   'hex_signature': '0xa9059cbb',\n   'bytes_signature': '©\\x05\\x9c»'},\n  {'id': 161159,\n   'created_at': '2019-03-22T19:13:17.314877Z',\n   'text_signature': 'transfer(bytes4[9],bytes5[6],int48[11])',\n   'hex_signature': '0xa9059cbb',\n   'bytes_signature': '©\\x05\\x9c»'},\n  {'id': 31780,\n   'created_at': '2018-05-11T08:39:29.708250Z',\n   'text_signature': 'many_msg_babbage(bytes1)',\n   'hex_signature': '0xa9059cbb',\n   'bytes_signature': '©\\x05\\x9c»'},\n  {'id': 145,\n   'created_at': '2016-07-09T03:58:28.234977Z',\n   'text_signature': 'transfer(address,uint256)',\n   'hex_signature': '0xa9059cbb',\n   'bytes_signature': '©\\x05\\x9c»'}]}"
     },
     "execution_count": 37,
     "metadata": {},
     "output_type": "execute_result"
    }
   ],
   "source": [
    "get_specific_signature.json()"
   ],
   "metadata": {
    "collapsed": false
   }
  },
  {
   "cell_type": "code",
   "execution_count": 37,
   "outputs": [],
   "source": [],
   "metadata": {
    "collapsed": false
   }
  }
 ],
 "metadata": {
  "kernelspec": {
   "display_name": "Python 3",
   "language": "python",
   "name": "python3"
  },
  "language_info": {
   "codemirror_mode": {
    "name": "ipython",
    "version": 2
   },
   "file_extension": ".py",
   "mimetype": "text/x-python",
   "name": "python",
   "nbconvert_exporter": "python",
   "pygments_lexer": "ipython2",
   "version": "2.7.6"
  }
 },
 "nbformat": 4,
 "nbformat_minor": 0
}
